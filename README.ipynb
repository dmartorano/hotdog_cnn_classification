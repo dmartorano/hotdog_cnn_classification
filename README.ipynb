{
  "nbformat": 4,
  "nbformat_minor": 0,
  "metadata": {
    "colab": {
      "provenance": []
    },
    "kernelspec": {
      "name": "python3",
      "display_name": "Python 3"
    },
    "language_info": {
      "name": "python"
    }
  },
  "cells": [
    {
      "cell_type": "markdown",
      "source": [
        "# Hackathon 2/Project 4: Hotdog or Not Hotdog"
      ],
      "metadata": {
        "id": "e7DM2DbEYtde"
      }
    },
    {
      "cell_type": "markdown",
      "source": [
        "## The Team: Group 2"
      ],
      "metadata": {
        "id": "H1HToUDBY5P2"
      }
    },
    {
      "cell_type": "markdown",
      "source": [
        "Ben Moss: Initial Model Setup, Repo Management, Transfer Learning\n",
        "\n",
        "Steve Goulden: GridSearch, Streamlit\n",
        "\n",
        "Dom Martorano: README, Colab Management\n",
        "\n"
      ],
      "metadata": {
        "id": "qhHO3GvxZSPg"
      }
    },
    {
      "cell_type": "markdown",
      "source": [
        "## Running Requirements"
      ],
      "metadata": {
        "id": "uqYfyGnsZ9tp"
      }
    },
    {
      "cell_type": "markdown",
      "source": [
        "### Libraries"
      ],
      "metadata": {
        "id": "bjEQOXLTaJUC"
      }
    },
    {
      "cell_type": "markdown",
      "source": [
        "*   numpy\n",
        "*   pandas\n",
        "*   matplotlib.pyplot\n",
        "*   glob\n",
        "*   random\n",
        "*   PIL (Python Imaging Library)\n",
        "*   tensorflow.keras\n",
        "*   sklearn.model_selection\n",
        "*   scikeras.wrappers\n",
        "*   streamlit\n",
        "*   tensorflow_hub\n",
        "*   os\n",
        "\n"
      ],
      "metadata": {
        "id": "XXvZH78MbIrt"
      }
    },
    {
      "cell_type": "markdown",
      "source": [
        "## Modeling Summary\n",
        "\n",
        "Image data was transferred from the Hotdog-Not-Hotdog dataset on Kaggle. Image data was then \"globbed\" into training and testing data sets. A sequential convolutional neural network model was instantiated using both Average and Max Pooling, as well as Dropout layers between each set of pooling layer and convolutional layer, as well as preceding and succeeding the dense layer. Each convolutional layer in the model doubled the number of nodes from the previous layer, beginning with 16 nodes and ending with 128 nodes for a total of four sets of layers. After creating the CNN model and fitting it to the image data, the model was saved as a .keras file in order to be transferred into a web-deployed Streamlit app."
      ],
      "metadata": {
        "id": "6s1CaMwsfoSd"
      }
    },
    {
      "cell_type": "markdown",
      "source": [
        "## Streamlit App"
      ],
      "metadata": {
        "id": "WxGcKtqxfyw0"
      }
    }
  ]
}
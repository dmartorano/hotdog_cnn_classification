{
 "cells": [
  {
   "cell_type": "code",
   "execution_count": 2,
   "id": "f2632d9a-fcf6-470a-9540-5d13c4d73513",
   "metadata": {},
   "outputs": [],
   "source": [
    "import pickle\n",
    "import streamlit"
   ]
  },
  {
   "cell_type": "code",
   "execution_count": null,
   "id": "c9ba83e8-c14b-4570-ab13-661a8b2e54ff",
   "metadata": {},
   "outputs": [],
   "source": [
    "# Sample: \n",
    "# with open('models/author_pipe.pkl', 'rb') as f:\n",
    "#     model = pickle.load(f)"
   ]
  }
 ],
 "metadata": {
  "kernelspec": {
   "display_name": "Python 3 (ipykernel)",
   "language": "python",
   "name": "python3"
  },
  "language_info": {
   "codemirror_mode": {
    "name": "ipython",
    "version": 3
   },
   "file_extension": ".py",
   "mimetype": "text/x-python",
   "name": "python",
   "nbconvert_exporter": "python",
   "pygments_lexer": "ipython3",
   "version": "3.10.13"
  }
 },
 "nbformat": 4,
 "nbformat_minor": 5
}
